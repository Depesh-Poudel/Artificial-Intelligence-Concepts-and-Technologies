{
  "nbformat": 4,
  "nbformat_minor": 0,
  "metadata": {
    "colab": {
      "provenance": []
    },
    "kernelspec": {
      "name": "python3",
      "display_name": "Python 3"
    },
    "language_info": {
      "name": "python"
    }
  },
  "cells": [
    {
      "cell_type": "markdown",
      "source": [
        "<div class=\"task\">\n",
        "        <h2>Problem 1 - Data Read, Write, and Inspect</h2>\n",
        "        <p><strong>Dataset:</strong> <code>bank.csv</code></p>\n",
        "        <ul>\n",
        "            <li>Load the provided dataset and import it into a Pandas DataFrame.</li>\n",
        "            <li>Check the information of the DataFrame and identify the following:\n",
        "                <ul>\n",
        "                    <li>Columns with <code>dtypes=object</code></li>\n",
        "                    <li>Unique values of those columns</li>\n",
        "                    <li>Total number of null values in each column</li>\n",
        "                </ul>\n",
        "            </li>\n",
        "            <li>Drop all the columns with <code>dtypes=object</code>, store in a new DataFrame, and write to a CSV named <code>banknumericdata.csv</code>.</li>\n",
        "            <li>Read <code>banknumericdata.csv</code> and find the summary statistics.</li>\n",
        "        </ul>\n",
        "    </div>"
      ],
      "metadata": {
        "id": "Gt2J25Gx6t3-"
      }
    },
    {
      "cell_type": "code",
      "execution_count": 33,
      "metadata": {
        "id": "PZZyMQuD3SvN",
        "colab": {
          "base_uri": "https://localhost:8080/"
        },
        "outputId": "6ebfd3ee-d343-4fd8-8239-3358d1d0045a"
      },
      "outputs": [
        {
          "output_type": "stream",
          "name": "stdout",
          "text": [
            "Drive already mounted at /content/drive; to attempt to forcibly remount, call drive.mount(\"/content/drive\", force_remount=True).\n"
          ]
        }
      ],
      "source": [
        "import pandas as pd\n",
        "import numpy as np\n",
        "import matplotlib.pyplot as plt\n",
        "import seaborn as sns\n",
        "from google.colab import drive\n",
        "drive.mount('/content/drive')"
      ]
    },
    {
      "cell_type": "code",
      "source": [
        "bank_path = '/content/drive/MyDrive/Concepts and Technology of AI/bank.csv'\n",
        "bank_data = pd.read_csv(bank_path)\n",
        "\n",
        "# 1. Check info of the DataFrame\n",
        "print(\"\\nData informarion: \",bank_data.info())\n",
        "\n",
        "# 2a. Columns with dtype=object\n",
        "object_columns = bank_data.select_dtypes(include='object').columns\n",
        "print(\"\\nObject Columns:\", object_columns)\n",
        "\n",
        "# 2b. Unique values of those columns\n",
        "for col in object_columns:\n",
        "    print(f\"\\nUnique values in column {col}:\", bank_data[col].unique())\n",
        "\n",
        "# 2c. Total number of null values in each column\n",
        "print(\"\\nNull values in each column:\", bank_data.isnull().sum())\n",
        "\n",
        "# 3. Drop columns with dtype=object and save as new DataFrame\n",
        "bank_numeric = bank_data.select_dtypes(exclude='object')\n",
        "bank_numeric.to_csv(bank_path, index=False)\n",
        "\n",
        "# 4. Read the new CSV and find summary statistics\n",
        "bank_numeric = pd.read_csv(bank_path)\n",
        "print(bank_numeric.describe())\n"
      ],
      "metadata": {
        "colab": {
          "base_uri": "https://localhost:8080/"
        },
        "id": "uwdFR4rju0nE",
        "outputId": "b0ec494a-f5fa-42df-8348-3710aa5dfec4"
      },
      "execution_count": 9,
      "outputs": [
        {
          "output_type": "stream",
          "name": "stdout",
          "text": [
            "<class 'pandas.core.frame.DataFrame'>\n",
            "RangeIndex: 45211 entries, 0 to 45210\n",
            "Data columns (total 7 columns):\n",
            " #   Column    Non-Null Count  Dtype\n",
            "---  ------    --------------  -----\n",
            " 0   age       45211 non-null  int64\n",
            " 1   balance   45211 non-null  int64\n",
            " 2   day       45211 non-null  int64\n",
            " 3   duration  45211 non-null  int64\n",
            " 4   campaign  45211 non-null  int64\n",
            " 5   pdays     45211 non-null  int64\n",
            " 6   previous  45211 non-null  int64\n",
            "dtypes: int64(7)\n",
            "memory usage: 2.4 MB\n",
            "\n",
            "Data informarion:  None\n",
            "\n",
            "Object Columns: Index([], dtype='object')\n",
            "\n",
            "Null values in each column: age         0\n",
            "balance     0\n",
            "day         0\n",
            "duration    0\n",
            "campaign    0\n",
            "pdays       0\n",
            "previous    0\n",
            "dtype: int64\n",
            "                age        balance           day      duration      campaign  \\\n",
            "count  45211.000000   45211.000000  45211.000000  45211.000000  45211.000000   \n",
            "mean      40.936210    1362.272058     15.806419    258.163080      2.763841   \n",
            "std       10.618762    3044.765829      8.322476    257.527812      3.098021   \n",
            "min       18.000000   -8019.000000      1.000000      0.000000      1.000000   \n",
            "25%       33.000000      72.000000      8.000000    103.000000      1.000000   \n",
            "50%       39.000000     448.000000     16.000000    180.000000      2.000000   \n",
            "75%       48.000000    1428.000000     21.000000    319.000000      3.000000   \n",
            "max       95.000000  102127.000000     31.000000   4918.000000     63.000000   \n",
            "\n",
            "              pdays      previous  \n",
            "count  45211.000000  45211.000000  \n",
            "mean      40.197828      0.580323  \n",
            "std      100.128746      2.303441  \n",
            "min       -1.000000      0.000000  \n",
            "25%       -1.000000      0.000000  \n",
            "50%       -1.000000      0.000000  \n",
            "75%       -1.000000      0.000000  \n",
            "max      871.000000    275.000000  \n"
          ]
        }
      ]
    },
    {
      "cell_type": "markdown",
      "source": [
        "<h2>Problem 2 - Data Imputations</h2>\n",
        "        <p><strong>Dataset:</strong> <code>medical_students.csv</code></p>\n",
        "        <ul>\n",
        "            <li>Load the provided dataset and import it into a Pandas DataFrame.</li>\n",
        "            <li>Check the information of the DataFrame and identify columns with missing (<code>null</code>) values.</li>\n",
        "            <li>For columns with missing values, fill the values using various techniques. Explain why you selected a particular method for each column.</li>\n",
        "            <li>Check for any duplicate values in the dataset and manage them appropriately. {Hint: <code>dataset.duplicated.sum()</code>}</li>\n",
        "        </ul>"
      ],
      "metadata": {
        "id": "o17v1vFN6xyq"
      }
    },
    {
      "cell_type": "code",
      "source": [
        "medical_std_path = '/content/drive/MyDrive/Concepts and Technology of AI/medical_students_dataset.csv'\n",
        "medical_data = pd.read_csv(medical_std_path)\n",
        "\n",
        "# 1. Check info of the DataFrame\n",
        "print(\"\\nData Information: \", medical_data.info())\n",
        "\n",
        "# 2. Identify column(s) with missing values\n",
        "missing_values = medical_data.isnull().sum()\n",
        "print(\"\\nColumns with missing values:\\n\", missing_values[missing_values > 0])\n",
        "\n",
        "# 3. Fill missing values\n",
        "for col in medical_data.columns:\n",
        "    if medical_data[col].dtype == 'object':\n",
        "        medical_data[col].fillna(medical_data[col].mode()[0], inplace=True)\n",
        "    else:\n",
        "        medical_data[col].fillna(medical_data[col].mean(), inplace=True)\n",
        "\n",
        "print(\"\\nMissing values after imputation are:\\n\", medical_data.isnull().sum())\n",
        "\n",
        "# 4. Check for duplicate values\n",
        "duplicates = medical_data.duplicated().sum()\n",
        "print(f\"\\nNumber of duplicate rows: {duplicates}\")\n",
        "\n",
        "medical_data = medical_data.drop_duplicates()\n"
      ],
      "metadata": {
        "colab": {
          "base_uri": "https://localhost:8080/"
        },
        "id": "YBJPI2Ow1oWn",
        "outputId": "0eee77b8-276a-4c46-f2bd-d6d0f76e7fda"
      },
      "execution_count": 18,
      "outputs": [
        {
          "output_type": "stream",
          "name": "stdout",
          "text": [
            "<class 'pandas.core.frame.DataFrame'>\n",
            "RangeIndex: 200000 entries, 0 to 199999\n",
            "Data columns (total 13 columns):\n",
            " #   Column          Non-Null Count   Dtype  \n",
            "---  ------          --------------   -----  \n",
            " 0   Student ID      180000 non-null  float64\n",
            " 1   Age             180000 non-null  float64\n",
            " 2   Gender          180000 non-null  object \n",
            " 3   Height          180000 non-null  float64\n",
            " 4   Weight          180000 non-null  float64\n",
            " 5   Blood Type      180000 non-null  object \n",
            " 6   BMI             180000 non-null  float64\n",
            " 7   Temperature     180000 non-null  float64\n",
            " 8   Heart Rate      180000 non-null  float64\n",
            " 9   Blood Pressure  180000 non-null  float64\n",
            " 10  Cholesterol     180000 non-null  float64\n",
            " 11  Diabetes        180000 non-null  object \n",
            " 12  Smoking         180000 non-null  object \n",
            "dtypes: float64(9), object(4)\n",
            "memory usage: 19.8+ MB\n",
            "\n",
            "Data Information:  None\n",
            "\n",
            "Columns with missing values:\n",
            " Student ID        20000\n",
            "Age               20000\n",
            "Gender            20000\n",
            "Height            20000\n",
            "Weight            20000\n",
            "Blood Type        20000\n",
            "BMI               20000\n",
            "Temperature       20000\n",
            "Heart Rate        20000\n",
            "Blood Pressure    20000\n",
            "Cholesterol       20000\n",
            "Diabetes          20000\n",
            "Smoking           20000\n",
            "dtype: int64\n",
            "\n",
            "Missing values after imputation are:\n",
            " Student ID        0\n",
            "Age               0\n",
            "Gender            0\n",
            "Height            0\n",
            "Weight            0\n",
            "Blood Type        0\n",
            "BMI               0\n",
            "Temperature       0\n",
            "Heart Rate        0\n",
            "Blood Pressure    0\n",
            "Cholesterol       0\n",
            "Diabetes          0\n",
            "Smoking           0\n",
            "dtype: int64\n"
          ]
        },
        {
          "output_type": "stream",
          "name": "stderr",
          "text": [
            "<ipython-input-18-f50e0ccc6b60>:16: FutureWarning: A value is trying to be set on a copy of a DataFrame or Series through chained assignment using an inplace method.\n",
            "The behavior will change in pandas 3.0. This inplace method will never work because the intermediate object on which we are setting values always behaves as a copy.\n",
            "\n",
            "For example, when doing 'df[col].method(value, inplace=True)', try using 'df.method({col: value}, inplace=True)' or df[col] = df[col].method(value) instead, to perform the operation inplace on the original object.\n",
            "\n",
            "\n",
            "  medical_data[col].fillna(medical_data[col].mean(), inplace=True)\n",
            "<ipython-input-18-f50e0ccc6b60>:14: FutureWarning: A value is trying to be set on a copy of a DataFrame or Series through chained assignment using an inplace method.\n",
            "The behavior will change in pandas 3.0. This inplace method will never work because the intermediate object on which we are setting values always behaves as a copy.\n",
            "\n",
            "For example, when doing 'df[col].method(value, inplace=True)', try using 'df.method({col: value}, inplace=True)' or df[col] = df[col].method(value) instead, to perform the operation inplace on the original object.\n",
            "\n",
            "\n",
            "  medical_data[col].fillna(medical_data[col].mode()[0], inplace=True)\n"
          ]
        },
        {
          "output_type": "stream",
          "name": "stdout",
          "text": [
            "\n",
            "Number of duplicate rows: 12572\n"
          ]
        }
      ]
    },
    {
      "cell_type": "markdown",
      "source": [
        "<h2>3.2 Exercises - Data Cleaning and Transformations with Titanic Dataset</h2>\n",
        "<p><strong>Dataset:</strong> <code>titanic.csv</code></p>\n",
        "\n",
        "  <h3>Problem 1:</h3>\n",
        "    <ul>\n",
        "    <li>Create a DataFrame subset with columns <code>Name</code>, <code>Pclass</code>, <code>Sex</code>, <code>Age</code>, <code>Fare</code>, and <code>Survived</code>.</li>\n",
        "    <li>Retain rows where <code>Pclass</code> equals 1 (First-Class passengers).</li>\n",
        "    <li>Calculate the mean, median, maximum, and minimum values of the <code>Fare</code> column.<li>\n",
        "    </ul>\n",
        "\n",
        "  <h3>Problem 2:</h3>\n",
        "    <ul>\n",
        "            <li>Count the number of <code>null</code> values in the <code>Age</code> column of the subset DataFrame from Problem 1.</li>\n",
        "            <li>Drop rows with <code>null</code> values in the <code>Age</code> column.</li>\n",
        "        </ul>\n",
        "\n",
        "  <h3>Problem 3:</h3>\n",
        "        <ul>\n",
        "            <li>Use one-hot encoding to convert the <code>Embarked</code> column into binary columns (<code>Embarked_C</code>, <code>Embarked_Q</code>, <code>Embarked_S</code>).</li>\n",
        "            <li>Add these new columns to the original DataFrame.</li>\n",
        "            <li>Drop the original <code>Embarked</code> column.</li>\n",
        "            <li>Print the first few rows of the modified DataFrame to verify changes.</li>\n",
        "        </ul>\n",
        "\n",
        "  <h3>Problem 4:</h3>\n",
        "        <ul>\n",
        "            <li>Compare the mean survival rates (<code>Survived</code>) for different groups in the <code>Sex</code> column.</li>\n",
        "            <li>Visualize survival distributions by gender using a plotting library.</li>\n",
        "        </ul>"
      ],
      "metadata": {
        "id": "U6PWyPO166hg"
      }
    },
    {
      "cell_type": "code",
      "source": [
        "titanic_path = '/content/drive/MyDrive/Concepts and Technology of AI/Titanic-Dataset.csv'\n",
        "titanic_data = pd.read_csv(titanic_path)"
      ],
      "metadata": {
        "id": "utw9IB5G2ttn"
      },
      "execution_count": 24,
      "outputs": []
    },
    {
      "cell_type": "code",
      "source": [
        "# Problem 1\n",
        "subset_data = titanic_data[['Name', 'Pclass', 'Sex', 'Age', 'Fare', 'Survived']]\n",
        "first_class_data = subset_data[subset_data['Pclass'] == 1]\n",
        "\n",
        "fare_stats = {\n",
        "    \"Mean\": first_class_df['Fare'].mean(),\n",
        "    \"Median\": first_class_df['Fare'].median(),\n",
        "    \"Max\": first_class_df['Fare'].max(),\n",
        "    \"Min\": first_class_df['Fare'].min()\n",
        "}\n",
        "print(f\"\\nFare Statistics:\\n{fare_stats}\")\n",
        "\n",
        "# Problem 2\n",
        "null_age_count = first_class_data['Age'].isnull().sum()\n",
        "print(f\"\\n\\nNull values in Age column: {null_age_count}\")\n",
        "first_class_data = first_class_data.dropna(subset=['Age'])\n",
        "\n",
        "# Problem 3\n",
        "if 'Embarked' in titanic_data.columns:\n",
        "    embarked_dummies = pd.get_dummies(titanic_data['Embarked'], prefix='Embarked')\n",
        "    titanic_data = pd.concat([titanic_data, embarked_dummies], axis=1)\n",
        "\n",
        "    # Drop original Embarked column\n",
        "    titanic_data.drop(columns=['Embarked'], inplace=True)\n",
        "    print(titanic_data.head())\n",
        "else:\n",
        "    print(\"Column 'Embarked' is not present in the DataFrame.\")\n",
        "\n",
        "\n",
        "#Problem 4\n",
        "gender_survival = titanic_df.groupby('Sex')['Survived'].mean()\n",
        "print(gender_survival)\n",
        "print(\"\\n\")\n",
        "sns.barplot(x=gender_survival.index, y=gender_survival.values)\n",
        "plt.title('Survival Rates by Gender')\n",
        "plt.ylabel('Survival Rate')\n",
        "plt.show()\n",
        "\n",
        "\n",
        "#Problem 5\n",
        "if 'Embarked' in titanic_data.columns:\n",
        "    embarked_survival = titanic_data.groupby('Embarked')['Survived'].mean()\n",
        "    print(embarked_survival)\n",
        "\n",
        "    sns.barplot(x=embarked_survival.index, y=embarked_survival.values)\n",
        "    plt.title('Survival Rates by Embarkation Port')\n",
        "    plt.ylabel('Survival Rate')\n",
        "    plt.xlabel('Embarkation Port')\n",
        "    plt.show()\n",
        "else:\n",
        "    print(\"\\n\\nColumn 'Embarked' is not present in the DataFrame.\")\n"
      ],
      "metadata": {
        "colab": {
          "base_uri": "https://localhost:8080/",
          "height": 744
        },
        "id": "k-lu-xX-3O-K",
        "outputId": "73b873ca-14c3-436a-dcfd-b2374828105b"
      },
      "execution_count": 44,
      "outputs": [
        {
          "output_type": "stream",
          "name": "stdout",
          "text": [
            "\n",
            "Fare Statistics:\n",
            "{'Mean': 87.96158225806451, 'Median': 69.3, 'Max': 512.3292, 'Min': 0.0}\n",
            "\n",
            "\n",
            "Null values in Age column: 30\n",
            "Column 'Embarked' is not present in the DataFrame.\n",
            "Sex\n",
            "female    0.742038\n",
            "male      0.188908\n",
            "Name: Survived, dtype: float64\n",
            "\n",
            "\n"
          ]
        },
        {
          "output_type": "display_data",
          "data": {
            "text/plain": [
              "<Figure size 640x480 with 1 Axes>"
            ],
            "image/png": "[encoded data removed]"
          },
          "metadata": {}
        },
        {
          "output_type": "stream",
          "name": "stdout",
          "text": [
            "\n",
            "\n",
            "Column 'Embarked' is not present in the DataFrame.\n"
          ]
        }
      ]
    }
  ]
}